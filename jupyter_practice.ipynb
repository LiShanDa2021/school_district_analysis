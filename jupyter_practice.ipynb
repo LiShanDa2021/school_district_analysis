{
 "cells": [
  {
   "cell_type": "code",
   "execution_count": 1,
   "id": "a5169294",
   "metadata": {},
   "outputs": [],
   "source": [
    "school_dict = [{'High School' : 'Griffin', 'Type' : 'District'}, {'High School' : 'Figuera', 'Type' : 'District'}, {'High School' : 'Wilson', 'Type' : 'Charter'}, {'High School' : 'Wright', 'Type' : 'Charter'}]"
   ]
  },
  {
   "cell_type": "code",
   "execution_count": 3,
   "id": "515fe774",
   "metadata": {},
   "outputs": [
    {
     "name": "stdout",
     "output_type": "stream",
     "text": [
      "Griffin : District\n",
      "Figuera : District\n",
      "Wilson : Charter\n",
      "Wright : Charter\n"
     ]
    }
   ],
   "source": [
    "for school in school_dict:\n",
    "    print(f\"{school.get('High School')} : {school.get('Type')}\")"
   ]
  },
  {
   "cell_type": "code",
   "execution_count": 2,
   "id": "fbec9989",
   "metadata": {},
   "outputs": [],
   "source": [
    "high_schools = [\"Huang High School\",  \"Figueroa High School\", \"Shelton High School\", \"Hernandez High School\",\"Griffin High School\",\"Wilson High School\", \"Cabrera High School\", \"Bailey High School\", \"Holden High School\", \"Pena High School\", \"Wright High School\",\"Rodriguez High School\", \"Johnson High School\", \"Ford High School\", \"Thomas High School\"]"
   ]
  },
  {
   "cell_type": "code",
   "execution_count": 4,
   "id": "4dfe3959",
   "metadata": {},
   "outputs": [
    {
     "name": "stdout",
     "output_type": "stream",
     "text": [
      "Huang High School\n",
      "Figueroa High School\n",
      "Shelton High School\n",
      "Hernandez High School\n",
      "Griffin High School\n",
      "Wilson High School\n",
      "Cabrera High School\n",
      "Bailey High School\n",
      "Holden High School\n",
      "Pena High School\n",
      "Wright High School\n",
      "Rodriguez High School\n",
      "Johnson High School\n",
      "Ford High School\n",
      "Thomas High School\n"
     ]
    }
   ],
   "source": [
    "for school in high_schools:\n",
    "    #i = high_schools.index(school)\n",
    "    #print(high_schools[school])\n",
    "    print(school)"
   ]
  },
  {
   "cell_type": "code",
   "execution_count": null,
   "id": "42a9c2ef",
   "metadata": {},
   "outputs": [],
   "source": []
  }
 ],
 "metadata": {
  "kernelspec": {
   "display_name": "PythonData",
   "language": "python",
   "name": "pythondata"
  },
  "language_info": {
   "codemirror_mode": {
    "name": "ipython",
    "version": 3
   },
   "file_extension": ".py",
   "mimetype": "text/x-python",
   "name": "python",
   "nbconvert_exporter": "python",
   "pygments_lexer": "ipython3",
   "version": "3.8.8"
  }
 },
 "nbformat": 4,
 "nbformat_minor": 5
}
